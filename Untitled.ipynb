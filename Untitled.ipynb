{
 "cells": [
  {
   "cell_type": "code",
   "execution_count": 366,
   "metadata": {
    "collapsed": true
   },
   "outputs": [],
   "source": [
    "import pandas as pd\n",
    "import numpy as np\n",
    "import seaborn as sns\n",
    "import matplotlib.pyplot as plt\n",
    "%matplotlib inline"
   ]
  },
  {
   "cell_type": "code",
   "execution_count": 367,
   "metadata": {},
   "outputs": [
    {
     "data": {
      "text/html": [
       "<div>\n",
       "<style>\n",
       "    .dataframe thead tr:only-child th {\n",
       "        text-align: right;\n",
       "    }\n",
       "\n",
       "    .dataframe thead th {\n",
       "        text-align: left;\n",
       "    }\n",
       "\n",
       "    .dataframe tbody tr th {\n",
       "        vertical-align: top;\n",
       "    }\n",
       "</style>\n",
       "<table border=\"1\" class=\"dataframe\">\n",
       "  <thead>\n",
       "    <tr style=\"text-align: right;\">\n",
       "      <th></th>\n",
       "      <th>Customer ID</th>\n",
       "      <th>Date of disbursal of loan</th>\n",
       "      <th>Payment Type</th>\n",
       "      <th>Area Code</th>\n",
       "      <th>Pin code</th>\n",
       "      <th>State</th>\n",
       "      <th>Dealer Type</th>\n",
       "      <th>Product Code</th>\n",
       "      <th>Tenure</th>\n",
       "      <th>Rate of Interest</th>\n",
       "      <th>...</th>\n",
       "      <th>Loan Amount</th>\n",
       "      <th>Gender</th>\n",
       "      <th>Qualification</th>\n",
       "      <th>Employment type</th>\n",
       "      <th>Residence Type</th>\n",
       "      <th>Age</th>\n",
       "      <th>CIBIL Score</th>\n",
       "      <th>Net Salary</th>\n",
       "      <th>Net Internal Rate of return</th>\n",
       "      <th>Target Variable</th>\n",
       "    </tr>\n",
       "  </thead>\n",
       "  <tbody>\n",
       "    <tr>\n",
       "      <th>0</th>\n",
       "      <td>0</td>\n",
       "      <td>2/13/2020</td>\n",
       "      <td>ACH</td>\n",
       "      <td>3075</td>\n",
       "      <td>530041</td>\n",
       "      <td>AP</td>\n",
       "      <td>DEALER</td>\n",
       "      <td>SC</td>\n",
       "      <td>0.470588</td>\n",
       "      <td>-0.793282</td>\n",
       "      <td>...</td>\n",
       "      <td>71000</td>\n",
       "      <td>M</td>\n",
       "      <td>OTHERS</td>\n",
       "      <td>SAL</td>\n",
       "      <td>O</td>\n",
       "      <td>0.306122</td>\n",
       "      <td>-0.906781</td>\n",
       "      <td>0.158169</td>\n",
       "      <td>-1.321153</td>\n",
       "      <td>0</td>\n",
       "    </tr>\n",
       "    <tr>\n",
       "      <th>1</th>\n",
       "      <td>1</td>\n",
       "      <td>6/2/2020</td>\n",
       "      <td>ADM</td>\n",
       "      <td>3075</td>\n",
       "      <td>532123</td>\n",
       "      <td>AP</td>\n",
       "      <td>DEALER</td>\n",
       "      <td>SC</td>\n",
       "      <td>0.352941</td>\n",
       "      <td>-0.952045</td>\n",
       "      <td>...</td>\n",
       "      <td>51000</td>\n",
       "      <td>F</td>\n",
       "      <td>PG</td>\n",
       "      <td>SAL</td>\n",
       "      <td>O</td>\n",
       "      <td>0.551020</td>\n",
       "      <td>0.163204</td>\n",
       "      <td>1.161336</td>\n",
       "      <td>-1.308269</td>\n",
       "      <td>0</td>\n",
       "    </tr>\n",
       "    <tr>\n",
       "      <th>2</th>\n",
       "      <td>2</td>\n",
       "      <td>10/2/2020</td>\n",
       "      <td>ADM</td>\n",
       "      <td>3075</td>\n",
       "      <td>533218</td>\n",
       "      <td>AP</td>\n",
       "      <td>ASC</td>\n",
       "      <td>SC</td>\n",
       "      <td>0.352941</td>\n",
       "      <td>0.318061</td>\n",
       "      <td>...</td>\n",
       "      <td>74038</td>\n",
       "      <td>M</td>\n",
       "      <td>SSC</td>\n",
       "      <td>SEP</td>\n",
       "      <td>O</td>\n",
       "      <td>0.530612</td>\n",
       "      <td>NaN</td>\n",
       "      <td>0.910545</td>\n",
       "      <td>0.605033</td>\n",
       "      <td>0</td>\n",
       "    </tr>\n",
       "    <tr>\n",
       "      <th>3</th>\n",
       "      <td>3</td>\n",
       "      <td>10/2/2020</td>\n",
       "      <td>ADM</td>\n",
       "      <td>3075</td>\n",
       "      <td>532484</td>\n",
       "      <td>AP</td>\n",
       "      <td>DEALER</td>\n",
       "      <td>SC</td>\n",
       "      <td>0.352941</td>\n",
       "      <td>-1.309262</td>\n",
       "      <td>...</td>\n",
       "      <td>69720</td>\n",
       "      <td>M</td>\n",
       "      <td>OTHERS</td>\n",
       "      <td>AGR</td>\n",
       "      <td>O</td>\n",
       "      <td>0.224490</td>\n",
       "      <td>-0.167982</td>\n",
       "      <td>-0.544048</td>\n",
       "      <td>-1.098901</td>\n",
       "      <td>0</td>\n",
       "    </tr>\n",
       "    <tr>\n",
       "      <th>4</th>\n",
       "      <td>4</td>\n",
       "      <td>10/2/2020</td>\n",
       "      <td>ADM</td>\n",
       "      <td>3075</td>\n",
       "      <td>530046</td>\n",
       "      <td>AP</td>\n",
       "      <td>DEALER</td>\n",
       "      <td>SC</td>\n",
       "      <td>0.352941</td>\n",
       "      <td>-0.713900</td>\n",
       "      <td>...</td>\n",
       "      <td>52220</td>\n",
       "      <td>F</td>\n",
       "      <td>HSC</td>\n",
       "      <td>SAL</td>\n",
       "      <td>O</td>\n",
       "      <td>0.224490</td>\n",
       "      <td>NaN</td>\n",
       "      <td>-0.343415</td>\n",
       "      <td>-0.986164</td>\n",
       "      <td>0</td>\n",
       "    </tr>\n",
       "  </tbody>\n",
       "</table>\n",
       "<p>5 rows × 23 columns</p>\n",
       "</div>"
      ],
      "text/plain": [
       "   Customer ID Date of disbursal of loan Payment Type  Area Code  Pin code  \\\n",
       "0            0                 2/13/2020          ACH       3075    530041   \n",
       "1            1                  6/2/2020          ADM       3075    532123   \n",
       "2            2                 10/2/2020          ADM       3075    533218   \n",
       "3            3                 10/2/2020          ADM       3075    532484   \n",
       "4            4                 10/2/2020          ADM       3075    530046   \n",
       "\n",
       "  State Dealer Type Product Code    Tenure  Rate of Interest       ...         \\\n",
       "0    AP      DEALER           SC  0.470588         -0.793282       ...          \n",
       "1    AP      DEALER           SC  0.352941         -0.952045       ...          \n",
       "2    AP         ASC           SC  0.352941          0.318061       ...          \n",
       "3    AP      DEALER           SC  0.352941         -1.309262       ...          \n",
       "4    AP      DEALER           SC  0.352941         -0.713900       ...          \n",
       "\n",
       "   Loan Amount  Gender  Qualification  Employment type Residence Type  \\\n",
       "0        71000       M         OTHERS              SAL              O   \n",
       "1        51000       F             PG              SAL              O   \n",
       "2        74038       M            SSC              SEP              O   \n",
       "3        69720       M         OTHERS              AGR              O   \n",
       "4        52220       F            HSC              SAL              O   \n",
       "\n",
       "        Age CIBIL Score Net Salary  Net Internal Rate of return  \\\n",
       "0  0.306122   -0.906781   0.158169                    -1.321153   \n",
       "1  0.551020    0.163204   1.161336                    -1.308269   \n",
       "2  0.530612         NaN   0.910545                     0.605033   \n",
       "3  0.224490   -0.167982  -0.544048                    -1.098901   \n",
       "4  0.224490         NaN  -0.343415                    -0.986164   \n",
       "\n",
       "   Target Variable  \n",
       "0                0  \n",
       "1                0  \n",
       "2                0  \n",
       "3                0  \n",
       "4                0  \n",
       "\n",
       "[5 rows x 23 columns]"
      ]
     },
     "execution_count": 367,
     "metadata": {},
     "output_type": "execute_result"
    }
   ],
   "source": [
    "df = pd.read_csv(\"Analytics Case Study 1-Post Asset Verification.csv\")\n",
    "df.head()"
   ]
  },
  {
   "cell_type": "code",
   "execution_count": 368,
   "metadata": {},
   "outputs": [
    {
     "name": "stdout",
     "output_type": "stream",
     "text": [
      "<class 'pandas.core.frame.DataFrame'>\n",
      "RangeIndex: 11702 entries, 0 to 11701\n",
      "Data columns (total 23 columns):\n",
      "Customer ID                    11702 non-null int64\n",
      "Date of disbursal of loan      11702 non-null object\n",
      "Payment Type                   11702 non-null object\n",
      "Area Code                      11702 non-null int64\n",
      "Pin code                       11702 non-null int64\n",
      "State                          11702 non-null object\n",
      "Dealer Type                    11702 non-null object\n",
      "Product Code                   11702 non-null object\n",
      "Tenure                         11702 non-null float64\n",
      "Rate of Interest               11702 non-null float64\n",
      "EMI                            11702 non-null float64\n",
      "Processing Fee                 11702 non-null float64\n",
      "Asset cost                     11702 non-null int64\n",
      "Loan Amount                    11702 non-null int64\n",
      "Gender                         11698 non-null object\n",
      "Qualification                  11698 non-null object\n",
      "Employment type                11698 non-null object\n",
      "Residence Type                 11698 non-null object\n",
      "Age                            11698 non-null float64\n",
      "CIBIL Score                    4601 non-null float64\n",
      "Net Salary                     11702 non-null float64\n",
      "Net Internal Rate of return    11702 non-null float64\n",
      "Target Variable                11702 non-null int64\n",
      "dtypes: float64(8), int64(6), object(9)\n",
      "memory usage: 2.1+ MB\n"
     ]
    }
   ],
   "source": [
    "df.info()"
   ]
  },
  {
   "cell_type": "code",
   "execution_count": 369,
   "metadata": {},
   "outputs": [
    {
     "data": {
      "text/plain": [
       "(11702, 23)"
      ]
     },
     "execution_count": 369,
     "metadata": {},
     "output_type": "execute_result"
    }
   ],
   "source": [
    "df.shape"
   ]
  },
  {
   "cell_type": "code",
   "execution_count": 370,
   "metadata": {},
   "outputs": [
    {
     "data": {
      "text/html": [
       "<div>\n",
       "<style>\n",
       "    .dataframe thead tr:only-child th {\n",
       "        text-align: right;\n",
       "    }\n",
       "\n",
       "    .dataframe thead th {\n",
       "        text-align: left;\n",
       "    }\n",
       "\n",
       "    .dataframe tbody tr th {\n",
       "        vertical-align: top;\n",
       "    }\n",
       "</style>\n",
       "<table border=\"1\" class=\"dataframe\">\n",
       "  <thead>\n",
       "    <tr style=\"text-align: right;\">\n",
       "      <th></th>\n",
       "      <th>Payment Type</th>\n",
       "      <th>Dealer Type</th>\n",
       "      <th>Product Code</th>\n",
       "      <th>Tenure</th>\n",
       "      <th>Rate of Interest</th>\n",
       "      <th>EMI</th>\n",
       "      <th>Processing Fee</th>\n",
       "      <th>Asset cost</th>\n",
       "      <th>Loan Amount</th>\n",
       "      <th>Gender</th>\n",
       "      <th>Qualification</th>\n",
       "      <th>Employment type</th>\n",
       "      <th>Residence Type</th>\n",
       "      <th>Age</th>\n",
       "      <th>CIBIL Score</th>\n",
       "      <th>Net Salary</th>\n",
       "      <th>Net Internal Rate of return</th>\n",
       "      <th>Target Variable</th>\n",
       "    </tr>\n",
       "  </thead>\n",
       "  <tbody>\n",
       "    <tr>\n",
       "      <th>0</th>\n",
       "      <td>ACH</td>\n",
       "      <td>DEALER</td>\n",
       "      <td>SC</td>\n",
       "      <td>0.470588</td>\n",
       "      <td>-0.793282</td>\n",
       "      <td>0.124252</td>\n",
       "      <td>-0.093758</td>\n",
       "      <td>87000</td>\n",
       "      <td>71000</td>\n",
       "      <td>M</td>\n",
       "      <td>OTHERS</td>\n",
       "      <td>SAL</td>\n",
       "      <td>O</td>\n",
       "      <td>0.306122</td>\n",
       "      <td>-0.906781</td>\n",
       "      <td>0.158169</td>\n",
       "      <td>-1.321153</td>\n",
       "      <td>0</td>\n",
       "    </tr>\n",
       "    <tr>\n",
       "      <th>1</th>\n",
       "      <td>ADM</td>\n",
       "      <td>DEALER</td>\n",
       "      <td>SC</td>\n",
       "      <td>0.352941</td>\n",
       "      <td>-0.952045</td>\n",
       "      <td>0.083863</td>\n",
       "      <td>-0.572295</td>\n",
       "      <td>61500</td>\n",
       "      <td>51000</td>\n",
       "      <td>F</td>\n",
       "      <td>PG</td>\n",
       "      <td>SAL</td>\n",
       "      <td>O</td>\n",
       "      <td>0.551020</td>\n",
       "      <td>0.163204</td>\n",
       "      <td>1.161336</td>\n",
       "      <td>-1.308269</td>\n",
       "      <td>0</td>\n",
       "    </tr>\n",
       "    <tr>\n",
       "      <th>2</th>\n",
       "      <td>ADM</td>\n",
       "      <td>ASC</td>\n",
       "      <td>SC</td>\n",
       "      <td>0.352941</td>\n",
       "      <td>0.318061</td>\n",
       "      <td>0.210079</td>\n",
       "      <td>0.913555</td>\n",
       "      <td>87000</td>\n",
       "      <td>74038</td>\n",
       "      <td>M</td>\n",
       "      <td>SSC</td>\n",
       "      <td>SEP</td>\n",
       "      <td>O</td>\n",
       "      <td>0.530612</td>\n",
       "      <td>NaN</td>\n",
       "      <td>0.910545</td>\n",
       "      <td>0.605033</td>\n",
       "      <td>0</td>\n",
       "    </tr>\n",
       "    <tr>\n",
       "      <th>3</th>\n",
       "      <td>ADM</td>\n",
       "      <td>DEALER</td>\n",
       "      <td>SC</td>\n",
       "      <td>0.352941</td>\n",
       "      <td>-1.309262</td>\n",
       "      <td>0.166511</td>\n",
       "      <td>0.649593</td>\n",
       "      <td>84000</td>\n",
       "      <td>69720</td>\n",
       "      <td>M</td>\n",
       "      <td>OTHERS</td>\n",
       "      <td>AGR</td>\n",
       "      <td>O</td>\n",
       "      <td>0.224490</td>\n",
       "      <td>-0.167982</td>\n",
       "      <td>-0.544048</td>\n",
       "      <td>-1.098901</td>\n",
       "      <td>0</td>\n",
       "    </tr>\n",
       "    <tr>\n",
       "      <th>4</th>\n",
       "      <td>ADM</td>\n",
       "      <td>DEALER</td>\n",
       "      <td>SC</td>\n",
       "      <td>0.352941</td>\n",
       "      <td>-0.713900</td>\n",
       "      <td>0.092091</td>\n",
       "      <td>-0.572295</td>\n",
       "      <td>61500</td>\n",
       "      <td>52220</td>\n",
       "      <td>F</td>\n",
       "      <td>HSC</td>\n",
       "      <td>SAL</td>\n",
       "      <td>O</td>\n",
       "      <td>0.224490</td>\n",
       "      <td>NaN</td>\n",
       "      <td>-0.343415</td>\n",
       "      <td>-0.986164</td>\n",
       "      <td>0</td>\n",
       "    </tr>\n",
       "  </tbody>\n",
       "</table>\n",
       "</div>"
      ],
      "text/plain": [
       "  Payment Type Dealer Type Product Code    Tenure  Rate of Interest       EMI  \\\n",
       "0          ACH      DEALER           SC  0.470588         -0.793282  0.124252   \n",
       "1          ADM      DEALER           SC  0.352941         -0.952045  0.083863   \n",
       "2          ADM         ASC           SC  0.352941          0.318061  0.210079   \n",
       "3          ADM      DEALER           SC  0.352941         -1.309262  0.166511   \n",
       "4          ADM      DEALER           SC  0.352941         -0.713900  0.092091   \n",
       "\n",
       "   Processing Fee  Asset cost  Loan Amount Gender Qualification  \\\n",
       "0       -0.093758       87000        71000      M        OTHERS   \n",
       "1       -0.572295       61500        51000      F            PG   \n",
       "2        0.913555       87000        74038      M           SSC   \n",
       "3        0.649593       84000        69720      M        OTHERS   \n",
       "4       -0.572295       61500        52220      F           HSC   \n",
       "\n",
       "  Employment type Residence Type       Age  CIBIL Score  Net Salary  \\\n",
       "0             SAL              O  0.306122    -0.906781    0.158169   \n",
       "1             SAL              O  0.551020     0.163204    1.161336   \n",
       "2             SEP              O  0.530612          NaN    0.910545   \n",
       "3             AGR              O  0.224490    -0.167982   -0.544048   \n",
       "4             SAL              O  0.224490          NaN   -0.343415   \n",
       "\n",
       "   Net Internal Rate of return  Target Variable  \n",
       "0                    -1.321153                0  \n",
       "1                    -1.308269                0  \n",
       "2                     0.605033                0  \n",
       "3                    -1.098901                0  \n",
       "4                    -0.986164                0  "
      ]
     },
     "execution_count": 370,
     "metadata": {},
     "output_type": "execute_result"
    }
   ],
   "source": [
    "df = df.drop([\"Customer ID\", \"Area Code\",\"Pin code\",\"State\",\"Date of disbursal of loan\"],axis=1)\n",
    "df.head()"
   ]
  },
  {
   "cell_type": "code",
   "execution_count": 371,
   "metadata": {
    "collapsed": true
   },
   "outputs": [],
   "source": [
    "categorical_columns = ['Payment Type','Dealer Type','Product Code','Gender','Qualification', 'Employment type','Residence Type']\n",
    "numerical_columns = ['Tenure','Rate of Interest','EMI','Processing Fee','Asset cost','Loan Amount','Age','CIBIL Score','Net Salary','Net Internal Rate of return']\n"
   ]
  },
  {
   "cell_type": "code",
   "execution_count": 372,
   "metadata": {},
   "outputs": [
    {
     "name": "stdout",
     "output_type": "stream",
     "text": [
      "['ACH' 'ADM' 'DRE' 'DAS' 'ENCH' 'PDC']\n",
      "['DEALER' 'ASC']\n",
      "['SC' 'MO' 'MC' 'EB']\n",
      "['M' 'F' nan]\n",
      "['OTHERS' 'PG' 'SSC' 'HSC' 'UG' nan]\n",
      "['SAL' 'SEP' 'AGR' 'STU' 'OTH' 'PEN' 'HOW' nan]\n",
      "['O' 'R' 'L' nan]\n"
     ]
    }
   ],
   "source": [
    "print(df['Payment Type'].unique())\n",
    "print(df['Dealer Type'].unique())\n",
    "print(df['Product Code'].unique())\n",
    "print(df['Gender'].unique())\n",
    "print(df['Qualification'].unique())\n",
    "print(df['Employment type'].unique())\n",
    "print(df['Residence Type'].unique())"
   ]
  },
  {
   "cell_type": "code",
   "execution_count": 373,
   "metadata": {},
   "outputs": [
    {
     "data": {
      "text/plain": [
       "Payment Type                      0\n",
       "Dealer Type                       0\n",
       "Product Code                      0\n",
       "Tenure                            0\n",
       "Rate of Interest                  0\n",
       "EMI                               0\n",
       "Processing Fee                    0\n",
       "Asset cost                        0\n",
       "Loan Amount                       0\n",
       "Gender                            4\n",
       "Qualification                     4\n",
       "Employment type                   4\n",
       "Residence Type                    4\n",
       "Age                               4\n",
       "CIBIL Score                    7101\n",
       "Net Salary                        0\n",
       "Net Internal Rate of return       0\n",
       "Target Variable                   0\n",
       "dtype: int64"
      ]
     },
     "execution_count": 373,
     "metadata": {},
     "output_type": "execute_result"
    }
   ],
   "source": [
    "df.isnull().sum()"
   ]
  },
  {
   "cell_type": "markdown",
   "metadata": {},
   "source": [
    "### categorical variables vs target variable"
   ]
  },
  {
   "cell_type": "code",
   "execution_count": 374,
   "metadata": {},
   "outputs": [
    {
     "data": {
      "image/png": "[encoded data removed]",
      "text/plain": [
       "<matplotlib.figure.Figure at 0x19555520240>"
      ]
     },
     "metadata": {},
     "output_type": "display_data"
    },
    {
     "data": {
      "image/png": "[encoded data removed]",
      "text/plain": [
       "<matplotlib.figure.Figure at 0x19547e4bf28>"
      ]
     },
     "metadata": {},
     "output_type": "display_data"
    },
    {
     "data": {
      "image/png": "[encoded data removed]",
      "text/plain": [
       "<matplotlib.figure.Figure at 0x19544e2eb00>"
      ]
     },
     "metadata": {},
     "output_type": "display_data"
    },
    {
     "data": {
      "image/png": "[encoded data removed]",
      "text/plain": [
       "<matplotlib.figure.Figure at 0x19544dd7cc0>"
      ]
     },
     "metadata": {},
     "output_type": "display_data"
    },
    {
     "data": {
      "image/png": "[encoded data removed]",
      "text/plain": [
       "<matplotlib.figure.Figure at 0x19544612518>"
      ]
     },
     "metadata": {},
     "output_type": "display_data"
    },
    {
     "data": {
      "image/png": "[encoded data removed]",
      "text/plain": [
       "<matplotlib.figure.Figure at 0x19547d3f470>"
      ]
     },
     "metadata": {},
     "output_type": "display_data"
    }
   ],
   "source": [
    "Dealer_Type=pd.crosstab(df[\"Dealer Type\"], df[\"Target Variable\"])\n",
    "Dealer_Type.div(Dealer_Type.sum(1).astype(float), axis=0).plot(kind=\"bar\",stacked=True,figsize=(6,6))\n",
    "plt.show()\n",
    "Product_Code=pd.crosstab(df[\"Product Code\"], df[\"Target Variable\"])\n",
    "Product_Code.div(Product_Code.sum(1).astype(float), axis=0).plot(kind=\"bar\",stacked=True,figsize=(6,6))\n",
    "plt.show()\n",
    "Gender=pd.crosstab(df[\"Gender\"], df[\"Target Variable\"])\n",
    "Gender.div(Gender.sum(1).astype(float), axis=0).plot(kind=\"bar\",stacked=True,figsize=(6,6))\n",
    "plt.show()\n",
    "Qualification=pd.crosstab(df[\"Qualification\"], df[\"Target Variable\"])\n",
    "Qualification.div(Qualification.sum(1).astype(float), axis=0).plot(kind=\"bar\",stacked=True,figsize=(6,6))\n",
    "plt.show()\n",
    "Employment_type=pd.crosstab(df[\"Employment type\"], df[\"Target Variable\"])\n",
    "Employment_type.div(Employment_type.sum(1).astype(float), axis=0).plot(kind=\"bar\",stacked=True,figsize=(6,6))\n",
    "plt.show()\n",
    "Residence_Type=pd.crosstab(df[\"Residence Type\"], df[\"Target Variable\"])\n",
    "Residence_Type.div(Residence_Type.sum(1).astype(float), axis=0).plot(kind=\"bar\",stacked=True,figsize=(6,6))\n",
    "plt.show()"
   ]
  },
  {
   "cell_type": "code",
   "execution_count": 375,
   "metadata": {},
   "outputs": [
    {
     "data": {
      "image/png": "[encoded data removed]",
      "text/plain": [
       "<matplotlib.figure.Figure at 0x19547c51828>"
      ]
     },
     "metadata": {},
     "output_type": "display_data"
    },
    {
     "data": {
      "image/png": "[encoded data removed]",
      "text/plain": [
       "<matplotlib.figure.Figure at 0x19544eefcf8>"
      ]
     },
     "metadata": {},
     "output_type": "display_data"
    }
   ],
   "source": [
    "sns.distplot(df['Loan Amount'])\n",
    "plt.show()\n",
    "sns.distplot(df['Net Salary'])\n",
    "plt.show()"
   ]
  },
  {
   "cell_type": "code",
   "execution_count": 376,
   "metadata": {},
   "outputs": [
    {
     "data": {
      "text/plain": [
       "<matplotlib.axes._subplots.AxesSubplot at 0x19547e0ff28>"
      ]
     },
     "execution_count": 376,
     "metadata": {},
     "output_type": "execute_result"
    },
    {
     "data": {
      "image/png": "[encoded data removed]",
      "text/plain": [
       "<matplotlib.figure.Figure at 0x19547c51a58>"
      ]
     },
     "metadata": {},
     "output_type": "display_data"
    }
   ],
   "source": [
    "bins=[50000,65000,80000,95000,220900]\n",
    "group=['Low','Average','High','Very high']\n",
    "bins=pd.cut(df['Loan Amount'],bins,labels=group)\n",
    "Income_bin=pd.crosstab(bins,df['Target Variable'])\n",
    "Income_bin.div(Income_bin.sum(1).astype(float), axis=0).plot(kind='bar',stacked=True)"
   ]
  },
  {
   "cell_type": "code",
   "execution_count": 377,
   "metadata": {
    "scrolled": true
   },
   "outputs": [
    {
     "data": {
      "image/png": "[encoded data removed]",
      "text/plain": [
       "<matplotlib.figure.Figure at 0x195551d6dd8>"
      ]
     },
     "metadata": {},
     "output_type": "display_data"
    }
   ],
   "source": [
    "corrmat = df.corr()\n",
    "top_corr_features = corrmat.index\n",
    "plt.figure(figsize=(10,10))\n",
    "#plot heat map\n",
    "g = sns.heatmap(df[top_corr_features].corr(), annot=True, cmap=\"RdYlGn\")"
   ]
  },
  {
   "cell_type": "code",
   "execution_count": 378,
   "metadata": {
    "collapsed": true
   },
   "outputs": [],
   "source": [
    "df = df.drop([\"Asset cost\",\"CIBIL Score\"], axis=1)"
   ]
  },
  {
   "cell_type": "code",
   "execution_count": 379,
   "metadata": {
    "collapsed": true
   },
   "outputs": [],
   "source": [
    "df['Gender'].fillna(df['Gender'].mode()[0], inplace=True)\n",
    "df['Qualification'].fillna(df['Qualification'].mode()[0], inplace=True)\n",
    "df['Employment type'].fillna(df['Employment type'].mode()[0], inplace=True)\n",
    "df['Residence Type'].fillna(df['Residence Type'].mode()[0], inplace=True)\n",
    "df['Age'].fillna(df['Age'].median(), inplace=True)"
   ]
  },
  {
   "cell_type": "code",
   "execution_count": 380,
   "metadata": {},
   "outputs": [
    {
     "data": {
      "text/plain": [
       "Payment Type                   0\n",
       "Dealer Type                    0\n",
       "Product Code                   0\n",
       "Tenure                         0\n",
       "Rate of Interest               0\n",
       "EMI                            0\n",
       "Processing Fee                 0\n",
       "Loan Amount                    0\n",
       "Gender                         0\n",
       "Qualification                  0\n",
       "Employment type                0\n",
       "Residence Type                 0\n",
       "Age                            0\n",
       "Net Salary                     0\n",
       "Net Internal Rate of return    0\n",
       "Target Variable                0\n",
       "dtype: int64"
      ]
     },
     "execution_count": 380,
     "metadata": {},
     "output_type": "execute_result"
    }
   ],
   "source": [
    "df.isnull().sum()"
   ]
  },
  {
   "cell_type": "code",
   "execution_count": 381,
   "metadata": {
    "scrolled": true
   },
   "outputs": [
    {
     "name": "stdout",
     "output_type": "stream",
     "text": [
      "(11702, 16)\n"
     ]
    },
    {
     "data": {
      "text/html": [
       "<div>\n",
       "<style>\n",
       "    .dataframe thead tr:only-child th {\n",
       "        text-align: right;\n",
       "    }\n",
       "\n",
       "    .dataframe thead th {\n",
       "        text-align: left;\n",
       "    }\n",
       "\n",
       "    .dataframe tbody tr th {\n",
       "        vertical-align: top;\n",
       "    }\n",
       "</style>\n",
       "<table border=\"1\" class=\"dataframe\">\n",
       "  <thead>\n",
       "    <tr style=\"text-align: right;\">\n",
       "      <th></th>\n",
       "      <th>Payment Type</th>\n",
       "      <th>Dealer Type</th>\n",
       "      <th>Product Code</th>\n",
       "      <th>Tenure</th>\n",
       "      <th>Rate of Interest</th>\n",
       "      <th>EMI</th>\n",
       "      <th>Processing Fee</th>\n",
       "      <th>Loan Amount</th>\n",
       "      <th>Gender</th>\n",
       "      <th>Qualification</th>\n",
       "      <th>Employment type</th>\n",
       "      <th>Residence Type</th>\n",
       "      <th>Age</th>\n",
       "      <th>Net Salary</th>\n",
       "      <th>Net Internal Rate of return</th>\n",
       "      <th>Target Variable</th>\n",
       "    </tr>\n",
       "  </thead>\n",
       "  <tbody>\n",
       "    <tr>\n",
       "      <th>0</th>\n",
       "      <td>ACH</td>\n",
       "      <td>DEALER</td>\n",
       "      <td>SC</td>\n",
       "      <td>0.470588</td>\n",
       "      <td>-0.793282</td>\n",
       "      <td>0.124252</td>\n",
       "      <td>-0.093758</td>\n",
       "      <td>71000</td>\n",
       "      <td>M</td>\n",
       "      <td>OTHERS</td>\n",
       "      <td>SAL</td>\n",
       "      <td>O</td>\n",
       "      <td>0.306122</td>\n",
       "      <td>0.158169</td>\n",
       "      <td>-1.321153</td>\n",
       "      <td>0</td>\n",
       "    </tr>\n",
       "    <tr>\n",
       "      <th>1</th>\n",
       "      <td>ADM</td>\n",
       "      <td>DEALER</td>\n",
       "      <td>SC</td>\n",
       "      <td>0.352941</td>\n",
       "      <td>-0.952045</td>\n",
       "      <td>0.083863</td>\n",
       "      <td>-0.572295</td>\n",
       "      <td>51000</td>\n",
       "      <td>F</td>\n",
       "      <td>PG</td>\n",
       "      <td>SAL</td>\n",
       "      <td>O</td>\n",
       "      <td>0.551020</td>\n",
       "      <td>1.161336</td>\n",
       "      <td>-1.308269</td>\n",
       "      <td>0</td>\n",
       "    </tr>\n",
       "    <tr>\n",
       "      <th>2</th>\n",
       "      <td>ADM</td>\n",
       "      <td>ASC</td>\n",
       "      <td>SC</td>\n",
       "      <td>0.352941</td>\n",
       "      <td>0.318061</td>\n",
       "      <td>0.210079</td>\n",
       "      <td>0.913555</td>\n",
       "      <td>74038</td>\n",
       "      <td>M</td>\n",
       "      <td>SSC</td>\n",
       "      <td>SEP</td>\n",
       "      <td>O</td>\n",
       "      <td>0.530612</td>\n",
       "      <td>0.910545</td>\n",
       "      <td>0.605033</td>\n",
       "      <td>0</td>\n",
       "    </tr>\n",
       "    <tr>\n",
       "      <th>3</th>\n",
       "      <td>ADM</td>\n",
       "      <td>DEALER</td>\n",
       "      <td>SC</td>\n",
       "      <td>0.352941</td>\n",
       "      <td>-1.309262</td>\n",
       "      <td>0.166511</td>\n",
       "      <td>0.649593</td>\n",
       "      <td>69720</td>\n",
       "      <td>M</td>\n",
       "      <td>OTHERS</td>\n",
       "      <td>AGR</td>\n",
       "      <td>O</td>\n",
       "      <td>0.224490</td>\n",
       "      <td>-0.544048</td>\n",
       "      <td>-1.098901</td>\n",
       "      <td>0</td>\n",
       "    </tr>\n",
       "    <tr>\n",
       "      <th>4</th>\n",
       "      <td>ADM</td>\n",
       "      <td>DEALER</td>\n",
       "      <td>SC</td>\n",
       "      <td>0.352941</td>\n",
       "      <td>-0.713900</td>\n",
       "      <td>0.092091</td>\n",
       "      <td>-0.572295</td>\n",
       "      <td>52220</td>\n",
       "      <td>F</td>\n",
       "      <td>HSC</td>\n",
       "      <td>SAL</td>\n",
       "      <td>O</td>\n",
       "      <td>0.224490</td>\n",
       "      <td>-0.343415</td>\n",
       "      <td>-0.986164</td>\n",
       "      <td>0</td>\n",
       "    </tr>\n",
       "  </tbody>\n",
       "</table>\n",
       "</div>"
      ],
      "text/plain": [
       "  Payment Type Dealer Type Product Code    Tenure  Rate of Interest       EMI  \\\n",
       "0          ACH      DEALER           SC  0.470588         -0.793282  0.124252   \n",
       "1          ADM      DEALER           SC  0.352941         -0.952045  0.083863   \n",
       "2          ADM         ASC           SC  0.352941          0.318061  0.210079   \n",
       "3          ADM      DEALER           SC  0.352941         -1.309262  0.166511   \n",
       "4          ADM      DEALER           SC  0.352941         -0.713900  0.092091   \n",
       "\n",
       "   Processing Fee  Loan Amount Gender Qualification Employment type  \\\n",
       "0       -0.093758        71000      M        OTHERS             SAL   \n",
       "1       -0.572295        51000      F            PG             SAL   \n",
       "2        0.913555        74038      M           SSC             SEP   \n",
       "3        0.649593        69720      M        OTHERS             AGR   \n",
       "4       -0.572295        52220      F           HSC             SAL   \n",
       "\n",
       "  Residence Type       Age  Net Salary  Net Internal Rate of return  \\\n",
       "0              O  0.306122    0.158169                    -1.321153   \n",
       "1              O  0.551020    1.161336                    -1.308269   \n",
       "2              O  0.530612    0.910545                     0.605033   \n",
       "3              O  0.224490   -0.544048                    -1.098901   \n",
       "4              O  0.224490   -0.343415                    -0.986164   \n",
       "\n",
       "   Target Variable  \n",
       "0                0  \n",
       "1                0  \n",
       "2                0  \n",
       "3                0  \n",
       "4                0  "
      ]
     },
     "execution_count": 381,
     "metadata": {},
     "output_type": "execute_result"
    }
   ],
   "source": [
    "print(df.shape)\n",
    "df.head()"
   ]
  },
  {
   "cell_type": "code",
   "execution_count": 382,
   "metadata": {},
   "outputs": [
    {
     "data": {
      "text/html": [
       "<div>\n",
       "<style>\n",
       "    .dataframe thead tr:only-child th {\n",
       "        text-align: right;\n",
       "    }\n",
       "\n",
       "    .dataframe thead th {\n",
       "        text-align: left;\n",
       "    }\n",
       "\n",
       "    .dataframe tbody tr th {\n",
       "        vertical-align: top;\n",
       "    }\n",
       "</style>\n",
       "<table border=\"1\" class=\"dataframe\">\n",
       "  <thead>\n",
       "    <tr style=\"text-align: right;\">\n",
       "      <th></th>\n",
       "      <th>Tenure</th>\n",
       "      <th>Rate of Interest</th>\n",
       "      <th>EMI</th>\n",
       "      <th>Processing Fee</th>\n",
       "      <th>Loan Amount</th>\n",
       "      <th>Age</th>\n",
       "      <th>Net Salary</th>\n",
       "      <th>Net Internal Rate of return</th>\n",
       "      <th>Target Variable</th>\n",
       "      <th>Payment Type_ADM</th>\n",
       "      <th>...</th>\n",
       "      <th>Qualification_SSC</th>\n",
       "      <th>Qualification_UG</th>\n",
       "      <th>Employment type_HOW</th>\n",
       "      <th>Employment type_OTH</th>\n",
       "      <th>Employment type_PEN</th>\n",
       "      <th>Employment type_SAL</th>\n",
       "      <th>Employment type_SEP</th>\n",
       "      <th>Employment type_STU</th>\n",
       "      <th>Residence Type_O</th>\n",
       "      <th>Residence Type_R</th>\n",
       "    </tr>\n",
       "  </thead>\n",
       "  <tbody>\n",
       "    <tr>\n",
       "      <th>0</th>\n",
       "      <td>0.470588</td>\n",
       "      <td>-0.793282</td>\n",
       "      <td>0.124252</td>\n",
       "      <td>-0.093758</td>\n",
       "      <td>71000</td>\n",
       "      <td>0.306122</td>\n",
       "      <td>0.158169</td>\n",
       "      <td>-1.321153</td>\n",
       "      <td>0</td>\n",
       "      <td>0</td>\n",
       "      <td>...</td>\n",
       "      <td>0</td>\n",
       "      <td>0</td>\n",
       "      <td>0</td>\n",
       "      <td>0</td>\n",
       "      <td>0</td>\n",
       "      <td>1</td>\n",
       "      <td>0</td>\n",
       "      <td>0</td>\n",
       "      <td>1</td>\n",
       "      <td>0</td>\n",
       "    </tr>\n",
       "    <tr>\n",
       "      <th>1</th>\n",
       "      <td>0.352941</td>\n",
       "      <td>-0.952045</td>\n",
       "      <td>0.083863</td>\n",
       "      <td>-0.572295</td>\n",
       "      <td>51000</td>\n",
       "      <td>0.551020</td>\n",
       "      <td>1.161336</td>\n",
       "      <td>-1.308269</td>\n",
       "      <td>0</td>\n",
       "      <td>1</td>\n",
       "      <td>...</td>\n",
       "      <td>0</td>\n",
       "      <td>0</td>\n",
       "      <td>0</td>\n",
       "      <td>0</td>\n",
       "      <td>0</td>\n",
       "      <td>1</td>\n",
       "      <td>0</td>\n",
       "      <td>0</td>\n",
       "      <td>1</td>\n",
       "      <td>0</td>\n",
       "    </tr>\n",
       "    <tr>\n",
       "      <th>2</th>\n",
       "      <td>0.352941</td>\n",
       "      <td>0.318061</td>\n",
       "      <td>0.210079</td>\n",
       "      <td>0.913555</td>\n",
       "      <td>74038</td>\n",
       "      <td>0.530612</td>\n",
       "      <td>0.910545</td>\n",
       "      <td>0.605033</td>\n",
       "      <td>0</td>\n",
       "      <td>1</td>\n",
       "      <td>...</td>\n",
       "      <td>1</td>\n",
       "      <td>0</td>\n",
       "      <td>0</td>\n",
       "      <td>0</td>\n",
       "      <td>0</td>\n",
       "      <td>0</td>\n",
       "      <td>1</td>\n",
       "      <td>0</td>\n",
       "      <td>1</td>\n",
       "      <td>0</td>\n",
       "    </tr>\n",
       "    <tr>\n",
       "      <th>3</th>\n",
       "      <td>0.352941</td>\n",
       "      <td>-1.309262</td>\n",
       "      <td>0.166511</td>\n",
       "      <td>0.649593</td>\n",
       "      <td>69720</td>\n",
       "      <td>0.224490</td>\n",
       "      <td>-0.544048</td>\n",
       "      <td>-1.098901</td>\n",
       "      <td>0</td>\n",
       "      <td>1</td>\n",
       "      <td>...</td>\n",
       "      <td>0</td>\n",
       "      <td>0</td>\n",
       "      <td>0</td>\n",
       "      <td>0</td>\n",
       "      <td>0</td>\n",
       "      <td>0</td>\n",
       "      <td>0</td>\n",
       "      <td>0</td>\n",
       "      <td>1</td>\n",
       "      <td>0</td>\n",
       "    </tr>\n",
       "    <tr>\n",
       "      <th>4</th>\n",
       "      <td>0.352941</td>\n",
       "      <td>-0.713900</td>\n",
       "      <td>0.092091</td>\n",
       "      <td>-0.572295</td>\n",
       "      <td>52220</td>\n",
       "      <td>0.224490</td>\n",
       "      <td>-0.343415</td>\n",
       "      <td>-0.986164</td>\n",
       "      <td>0</td>\n",
       "      <td>1</td>\n",
       "      <td>...</td>\n",
       "      <td>0</td>\n",
       "      <td>0</td>\n",
       "      <td>0</td>\n",
       "      <td>0</td>\n",
       "      <td>0</td>\n",
       "      <td>1</td>\n",
       "      <td>0</td>\n",
       "      <td>0</td>\n",
       "      <td>1</td>\n",
       "      <td>0</td>\n",
       "    </tr>\n",
       "  </tbody>\n",
       "</table>\n",
       "<p>5 rows × 31 columns</p>\n",
       "</div>"
      ],
      "text/plain": [
       "     Tenure  Rate of Interest       EMI  Processing Fee  Loan Amount  \\\n",
       "0  0.470588         -0.793282  0.124252       -0.093758        71000   \n",
       "1  0.352941         -0.952045  0.083863       -0.572295        51000   \n",
       "2  0.352941          0.318061  0.210079        0.913555        74038   \n",
       "3  0.352941         -1.309262  0.166511        0.649593        69720   \n",
       "4  0.352941         -0.713900  0.092091       -0.572295        52220   \n",
       "\n",
       "        Age  Net Salary  Net Internal Rate of return  Target Variable  \\\n",
       "0  0.306122    0.158169                    -1.321153                0   \n",
       "1  0.551020    1.161336                    -1.308269                0   \n",
       "2  0.530612    0.910545                     0.605033                0   \n",
       "3  0.224490   -0.544048                    -1.098901                0   \n",
       "4  0.224490   -0.343415                    -0.986164                0   \n",
       "\n",
       "   Payment Type_ADM        ...         Qualification_SSC  Qualification_UG  \\\n",
       "0                 0        ...                         0                 0   \n",
       "1                 1        ...                         0                 0   \n",
       "2                 1        ...                         1                 0   \n",
       "3                 1        ...                         0                 0   \n",
       "4                 1        ...                         0                 0   \n",
       "\n",
       "   Employment type_HOW  Employment type_OTH  Employment type_PEN  \\\n",
       "0                    0                    0                    0   \n",
       "1                    0                    0                    0   \n",
       "2                    0                    0                    0   \n",
       "3                    0                    0                    0   \n",
       "4                    0                    0                    0   \n",
       "\n",
       "   Employment type_SAL  Employment type_SEP  Employment type_STU  \\\n",
       "0                    1                    0                    0   \n",
       "1                    1                    0                    0   \n",
       "2                    0                    1                    0   \n",
       "3                    0                    0                    0   \n",
       "4                    1                    0                    0   \n",
       "\n",
       "   Residence Type_O  Residence Type_R  \n",
       "0                 1                 0  \n",
       "1                 1                 0  \n",
       "2                 1                 0  \n",
       "3                 1                 0  \n",
       "4                 1                 0  \n",
       "\n",
       "[5 rows x 31 columns]"
      ]
     },
     "execution_count": 382,
     "metadata": {},
     "output_type": "execute_result"
    }
   ],
   "source": [
    "df = pd.get_dummies(df,drop_first=True)\n",
    "df.head()"
   ]
  },
  {
   "cell_type": "code",
   "execution_count": 383,
   "metadata": {
    "collapsed": true
   },
   "outputs": [],
   "source": [
    "x=df.drop(\"Target Variable\", axis=1)\n",
    "y = df['Target Variable']"
   ]
  },
  {
   "cell_type": "code",
   "execution_count": 433,
   "metadata": {},
   "outputs": [],
   "source": [
    "from sklearn.model_selection import train_test_split\n",
    "x_train, x_test, y_train, y_test = train_test_split(x,y, test_size=0.2)"
   ]
  },
  {
   "cell_type": "code",
   "execution_count": 434,
   "metadata": {},
   "outputs": [
    {
     "data": {
      "text/plain": [
       "LogisticRegression(C=1.0, class_weight=None, dual=False, fit_intercept=True,\n",
       "          intercept_scaling=1, max_iter=100, multi_class='ovr', n_jobs=1,\n",
       "          penalty='l2', random_state=None, solver='liblinear', tol=0.0001,\n",
       "          verbose=0, warm_start=False)"
      ]
     },
     "execution_count": 434,
     "metadata": {},
     "output_type": "execute_result"
    }
   ],
   "source": [
    "from sklearn.linear_model import LogisticRegression\n",
    "from sklearn.metrics import accuracy_score\n",
    "model = LogisticRegression()\n",
    "model.fit(x_train, y_train)"
   ]
  },
  {
   "cell_type": "code",
   "execution_count": 435,
   "metadata": {},
   "outputs": [
    {
     "data": {
      "text/plain": [
       "0.92310978214438277"
      ]
     },
     "execution_count": 435,
     "metadata": {},
     "output_type": "execute_result"
    }
   ],
   "source": [
    "y_pred = model.predict(x_test)\n",
    "accuracy_score(y_test,y_pred)"
   ]
  },
  {
   "cell_type": "markdown",
   "metadata": {},
   "source": [
    "### Random forest"
   ]
  },
  {
   "cell_type": "code",
   "execution_count": 387,
   "metadata": {
    "collapsed": true
   },
   "outputs": [],
   "source": [
    "from sklearn.model_selection import train_test_split\n",
    "x_train, x_test, y_train, y_test = train_test_split(x,y, test_size=0.2)"
   ]
  },
  {
   "cell_type": "code",
   "execution_count": 388,
   "metadata": {},
   "outputs": [
    {
     "data": {
      "text/plain": [
       "ExtraTreesRegressor(bootstrap=False, criterion='mse', max_depth=None,\n",
       "          max_features='auto', max_leaf_nodes=None,\n",
       "          min_impurity_split=1e-07, min_samples_leaf=1,\n",
       "          min_samples_split=2, min_weight_fraction_leaf=0.0,\n",
       "          n_estimators=10, n_jobs=1, oob_score=False, random_state=None,\n",
       "          verbose=0, warm_start=False)"
      ]
     },
     "execution_count": 388,
     "metadata": {},
     "output_type": "execute_result"
    }
   ],
   "source": [
    "### feature importance\n",
    "from sklearn.ensemble import ExtraTreesRegressor\n",
    "model = ExtraTreesRegressor()\n",
    "model.fit(x,y)"
   ]
  },
  {
   "cell_type": "code",
   "execution_count": 389,
   "metadata": {},
   "outputs": [
    {
     "name": "stdout",
     "output_type": "stream",
     "text": [
      "[ 0.06656939  0.09599018  0.0990091   0.10671269  0.10056277  0.10691337\n",
      "  0.10647987  0.10113092  0.02341812  0.00010859  0.00826156  0.01272021\n",
      "  0.          0.01937936  0.01435873  0.00842646  0.01229791  0.01706958\n",
      "  0.02407272  0.01053921  0.01478188  0.02110371  0.00032124  0.0003491\n",
      "  0.00047239  0.00771388  0.00452954  0.00091093  0.01397533  0.00182126]\n"
     ]
    }
   ],
   "source": [
    "print(model.feature_importances_)"
   ]
  },
  {
   "cell_type": "code",
   "execution_count": 390,
   "metadata": {},
   "outputs": [
    {
     "data": {
      "image/png": "[encoded data removed]",
      "text/plain": [
       "<matplotlib.figure.Figure at 0x195445d79e8>"
      ]
     },
     "metadata": {},
     "output_type": "display_data"
    }
   ],
   "source": [
    "feat_importances = pd.Series(model.feature_importances_, index=x.columns)\n",
    "feat_importances.nlargest(15).plot(kind='barh') #this plotted top five important features\n",
    "plt.show()"
   ]
  },
  {
   "cell_type": "code",
   "execution_count": 391,
   "metadata": {
    "collapsed": true
   },
   "outputs": [],
   "source": [
    "from sklearn.ensemble import RandomForestClassifier\n",
    "import numpy as np\n",
    "rf_model = RandomForestClassifier()"
   ]
  },
  {
   "cell_type": "code",
   "execution_count": 392,
   "metadata": {
    "collapsed": true
   },
   "outputs": [],
   "source": [
    "from sklearn.model_selection import RandomizedSearchCV\n",
    "#Randomized Search CV\n",
    "\n",
    "# Number of trees in random forest\n",
    "n_estimators = [int(x) for x in np.linspace(start = 100, stop = 1200, num = 12)]\n",
    "# Number of features to consider at every split\n",
    "max_features = ['auto', 'sqrt']\n",
    "# Maximum number of levels in tree\n",
    "max_depth = [int(x) for x in np.linspace(5, 1000, num = 6)]\n",
    "# max_depth.append(None)\n",
    "# Minimum number of samples required to split a node\n",
    "min_samples_split = [2, 4, 5, 7, 10, 15, 30, 50, 70, 85, 100]\n",
    "# Minimum number of samples required at each leaf node\n",
    "min_samples_leaf = [1, 2, 5, 10]"
   ]
  },
  {
   "cell_type": "code",
   "execution_count": 393,
   "metadata": {},
   "outputs": [
    {
     "name": "stdout",
     "output_type": "stream",
     "text": [
      "{'n_estimators': [100, 200, 300, 400, 500, 600, 700, 800, 900, 1000, 1100, 1200], 'max_features': ['auto', 'sqrt'], 'max_depth': [5, 204, 403, 602, 801, 1000], 'min_samples_split': [2, 4, 5, 7, 10, 15, 30, 50, 70, 85, 100], 'min_samples_leaf': [1, 2, 5, 10]}\n"
     ]
    }
   ],
   "source": [
    "random_grid = {'n_estimators': n_estimators,\n",
    "              'max_features': max_features,\n",
    "              'max_depth': max_depth,\n",
    "              'min_samples_split': min_samples_split,\n",
    "              'min_samples_leaf': min_samples_leaf\n",
    "              }\n",
    "print(random_grid)"
   ]
  },
  {
   "cell_type": "code",
   "execution_count": 394,
   "metadata": {
    "collapsed": true
   },
   "outputs": [],
   "source": [
    "rf_model=RandomForestClassifier()\n",
    "rf_random = RandomizedSearchCV(estimator=rf_model, param_distributions=random_grid, scoring='neg_mean_squared_error', n_iter=10, cv = 5, verbose=2, n_jobs = 1)"
   ]
  },
  {
   "cell_type": "code",
   "execution_count": 420,
   "metadata": {},
   "outputs": [
    {
     "name": "stdout",
     "output_type": "stream",
     "text": [
      "Fitting 5 folds for each of 10 candidates, totalling 50 fits\n",
      "[CV] n_estimators=300, min_samples_split=7, min_samples_leaf=2, max_features=sqrt, max_depth=1000 \n",
      "[CV]  n_estimators=300, min_samples_split=7, min_samples_leaf=2, max_features=sqrt, max_depth=1000, total=   3.5s\n",
      "[CV] n_estimators=300, min_samples_split=7, min_samples_leaf=2, max_features=sqrt, max_depth=1000 \n"
     ]
    },
    {
     "name": "stderr",
     "output_type": "stream",
     "text": [
      "[Parallel(n_jobs=1)]: Done   1 out of   1 | elapsed:    4.0s remaining:    0.0s\n"
     ]
    },
    {
     "name": "stdout",
     "output_type": "stream",
     "text": [
      "[CV]  n_estimators=300, min_samples_split=7, min_samples_leaf=2, max_features=sqrt, max_depth=1000, total=   3.6s\n",
      "[CV] n_estimators=300, min_samples_split=7, min_samples_leaf=2, max_features=sqrt, max_depth=1000 \n",
      "[CV]  n_estimators=300, min_samples_split=7, min_samples_leaf=2, max_features=sqrt, max_depth=1000, total=   4.5s\n",
      "[CV] n_estimators=300, min_samples_split=7, min_samples_leaf=2, max_features=sqrt, max_depth=1000 \n",
      "[CV]  n_estimators=300, min_samples_split=7, min_samples_leaf=2, max_features=sqrt, max_depth=1000, total=   4.6s\n",
      "[CV] n_estimators=300, min_samples_split=7, min_samples_leaf=2, max_features=sqrt, max_depth=1000 \n",
      "[CV]  n_estimators=300, min_samples_split=7, min_samples_leaf=2, max_features=sqrt, max_depth=1000, total=   4.5s\n",
      "[CV] n_estimators=300, min_samples_split=4, min_samples_leaf=1, max_features=sqrt, max_depth=5 \n",
      "[CV]  n_estimators=300, min_samples_split=4, min_samples_leaf=1, max_features=sqrt, max_depth=5, total=   2.2s\n",
      "[CV] n_estimators=300, min_samples_split=4, min_samples_leaf=1, max_features=sqrt, max_depth=5 \n",
      "[CV]  n_estimators=300, min_samples_split=4, min_samples_leaf=1, max_features=sqrt, max_depth=5, total=   2.2s\n",
      "[CV] n_estimators=300, min_samples_split=4, min_samples_leaf=1, max_features=sqrt, max_depth=5 \n",
      "[CV]  n_estimators=300, min_samples_split=4, min_samples_leaf=1, max_features=sqrt, max_depth=5, total=   1.7s\n",
      "[CV] n_estimators=300, min_samples_split=4, min_samples_leaf=1, max_features=sqrt, max_depth=5 \n",
      "[CV]  n_estimators=300, min_samples_split=4, min_samples_leaf=1, max_features=sqrt, max_depth=5, total=   1.6s\n",
      "[CV] n_estimators=300, min_samples_split=4, min_samples_leaf=1, max_features=sqrt, max_depth=5 \n",
      "[CV]  n_estimators=300, min_samples_split=4, min_samples_leaf=1, max_features=sqrt, max_depth=5, total=   1.6s\n",
      "[CV] n_estimators=1100, min_samples_split=15, min_samples_leaf=2, max_features=auto, max_depth=801 \n",
      "[CV]  n_estimators=1100, min_samples_split=15, min_samples_leaf=2, max_features=auto, max_depth=801, total=  12.3s\n",
      "[CV] n_estimators=1100, min_samples_split=15, min_samples_leaf=2, max_features=auto, max_depth=801 \n",
      "[CV]  n_estimators=1100, min_samples_split=15, min_samples_leaf=2, max_features=auto, max_depth=801, total=  14.7s\n",
      "[CV] n_estimators=1100, min_samples_split=15, min_samples_leaf=2, max_features=auto, max_depth=801 \n",
      "[CV]  n_estimators=1100, min_samples_split=15, min_samples_leaf=2, max_features=auto, max_depth=801, total=  12.4s\n",
      "[CV] n_estimators=1100, min_samples_split=15, min_samples_leaf=2, max_features=auto, max_depth=801 \n",
      "[CV]  n_estimators=1100, min_samples_split=15, min_samples_leaf=2, max_features=auto, max_depth=801, total=  12.2s\n",
      "[CV] n_estimators=1100, min_samples_split=15, min_samples_leaf=2, max_features=auto, max_depth=801 \n",
      "[CV]  n_estimators=1100, min_samples_split=15, min_samples_leaf=2, max_features=auto, max_depth=801, total=  12.2s\n",
      "[CV] n_estimators=400, min_samples_split=2, min_samples_leaf=10, max_features=sqrt, max_depth=204 \n",
      "[CV]  n_estimators=400, min_samples_split=2, min_samples_leaf=10, max_features=sqrt, max_depth=204, total=   3.9s\n",
      "[CV] n_estimators=400, min_samples_split=2, min_samples_leaf=10, max_features=sqrt, max_depth=204 \n",
      "[CV]  n_estimators=400, min_samples_split=2, min_samples_leaf=10, max_features=sqrt, max_depth=204, total=   4.1s\n",
      "[CV] n_estimators=400, min_samples_split=2, min_samples_leaf=10, max_features=sqrt, max_depth=204 \n",
      "[CV]  n_estimators=400, min_samples_split=2, min_samples_leaf=10, max_features=sqrt, max_depth=204, total=   3.8s\n",
      "[CV] n_estimators=400, min_samples_split=2, min_samples_leaf=10, max_features=sqrt, max_depth=204 \n",
      "[CV]  n_estimators=400, min_samples_split=2, min_samples_leaf=10, max_features=sqrt, max_depth=204, total=   3.8s\n",
      "[CV] n_estimators=400, min_samples_split=2, min_samples_leaf=10, max_features=sqrt, max_depth=204 \n",
      "[CV]  n_estimators=400, min_samples_split=2, min_samples_leaf=10, max_features=sqrt, max_depth=204, total=   3.8s\n",
      "[CV] n_estimators=600, min_samples_split=4, min_samples_leaf=10, max_features=sqrt, max_depth=403 \n",
      "[CV]  n_estimators=600, min_samples_split=4, min_samples_leaf=10, max_features=sqrt, max_depth=403, total=   5.8s\n",
      "[CV] n_estimators=600, min_samples_split=4, min_samples_leaf=10, max_features=sqrt, max_depth=403 \n",
      "[CV]  n_estimators=600, min_samples_split=4, min_samples_leaf=10, max_features=sqrt, max_depth=403, total=   5.8s\n",
      "[CV] n_estimators=600, min_samples_split=4, min_samples_leaf=10, max_features=sqrt, max_depth=403 \n",
      "[CV]  n_estimators=600, min_samples_split=4, min_samples_leaf=10, max_features=sqrt, max_depth=403, total=   5.7s\n",
      "[CV] n_estimators=600, min_samples_split=4, min_samples_leaf=10, max_features=sqrt, max_depth=403 \n",
      "[CV]  n_estimators=600, min_samples_split=4, min_samples_leaf=10, max_features=sqrt, max_depth=403, total=   5.8s\n",
      "[CV] n_estimators=600, min_samples_split=4, min_samples_leaf=10, max_features=sqrt, max_depth=403 \n",
      "[CV]  n_estimators=600, min_samples_split=4, min_samples_leaf=10, max_features=sqrt, max_depth=403, total=   5.7s\n",
      "[CV] n_estimators=400, min_samples_split=2, min_samples_leaf=10, max_features=auto, max_depth=602 \n",
      "[CV]  n_estimators=400, min_samples_split=2, min_samples_leaf=10, max_features=auto, max_depth=602, total=   3.8s\n",
      "[CV] n_estimators=400, min_samples_split=2, min_samples_leaf=10, max_features=auto, max_depth=602 \n",
      "[CV]  n_estimators=400, min_samples_split=2, min_samples_leaf=10, max_features=auto, max_depth=602, total=   3.8s\n",
      "[CV] n_estimators=400, min_samples_split=2, min_samples_leaf=10, max_features=auto, max_depth=602 \n",
      "[CV]  n_estimators=400, min_samples_split=2, min_samples_leaf=10, max_features=auto, max_depth=602, total=   3.9s\n",
      "[CV] n_estimators=400, min_samples_split=2, min_samples_leaf=10, max_features=auto, max_depth=602 \n",
      "[CV]  n_estimators=400, min_samples_split=2, min_samples_leaf=10, max_features=auto, max_depth=602, total=   3.8s\n",
      "[CV] n_estimators=400, min_samples_split=2, min_samples_leaf=10, max_features=auto, max_depth=602 \n",
      "[CV]  n_estimators=400, min_samples_split=2, min_samples_leaf=10, max_features=auto, max_depth=602, total=   3.8s\n",
      "[CV] n_estimators=800, min_samples_split=100, min_samples_leaf=5, max_features=auto, max_depth=5 \n",
      "[CV]  n_estimators=800, min_samples_split=100, min_samples_leaf=5, max_features=auto, max_depth=5, total=   4.5s\n",
      "[CV] n_estimators=800, min_samples_split=100, min_samples_leaf=5, max_features=auto, max_depth=5 \n",
      "[CV]  n_estimators=800, min_samples_split=100, min_samples_leaf=5, max_features=auto, max_depth=5, total=   5.6s\n",
      "[CV] n_estimators=800, min_samples_split=100, min_samples_leaf=5, max_features=auto, max_depth=5 \n",
      "[CV]  n_estimators=800, min_samples_split=100, min_samples_leaf=5, max_features=auto, max_depth=5, total=   4.4s\n",
      "[CV] n_estimators=800, min_samples_split=100, min_samples_leaf=5, max_features=auto, max_depth=5 \n",
      "[CV]  n_estimators=800, min_samples_split=100, min_samples_leaf=5, max_features=auto, max_depth=5, total=   4.5s\n",
      "[CV] n_estimators=800, min_samples_split=100, min_samples_leaf=5, max_features=auto, max_depth=5 \n",
      "[CV]  n_estimators=800, min_samples_split=100, min_samples_leaf=5, max_features=auto, max_depth=5, total=   4.3s\n",
      "[CV] n_estimators=400, min_samples_split=10, min_samples_leaf=10, max_features=sqrt, max_depth=1000 \n",
      "[CV]  n_estimators=400, min_samples_split=10, min_samples_leaf=10, max_features=sqrt, max_depth=1000, total=   3.9s\n",
      "[CV] n_estimators=400, min_samples_split=10, min_samples_leaf=10, max_features=sqrt, max_depth=1000 \n",
      "[CV]  n_estimators=400, min_samples_split=10, min_samples_leaf=10, max_features=sqrt, max_depth=1000, total=   3.8s\n",
      "[CV] n_estimators=400, min_samples_split=10, min_samples_leaf=10, max_features=sqrt, max_depth=1000 \n",
      "[CV]  n_estimators=400, min_samples_split=10, min_samples_leaf=10, max_features=sqrt, max_depth=1000, total=   3.9s\n",
      "[CV] n_estimators=400, min_samples_split=10, min_samples_leaf=10, max_features=sqrt, max_depth=1000 \n",
      "[CV]  n_estimators=400, min_samples_split=10, min_samples_leaf=10, max_features=sqrt, max_depth=1000, total=   3.8s\n",
      "[CV] n_estimators=400, min_samples_split=10, min_samples_leaf=10, max_features=sqrt, max_depth=1000 \n",
      "[CV]  n_estimators=400, min_samples_split=10, min_samples_leaf=10, max_features=sqrt, max_depth=1000, total=   4.1s\n",
      "[CV] n_estimators=500, min_samples_split=4, min_samples_leaf=1, max_features=auto, max_depth=1000 \n"
     ]
    },
    {
     "name": "stdout",
     "output_type": "stream",
     "text": [
      "[CV]  n_estimators=500, min_samples_split=4, min_samples_leaf=1, max_features=auto, max_depth=1000, total=   6.1s\n",
      "[CV] n_estimators=500, min_samples_split=4, min_samples_leaf=1, max_features=auto, max_depth=1000 \n",
      "[CV]  n_estimators=500, min_samples_split=4, min_samples_leaf=1, max_features=auto, max_depth=1000, total=   5.9s\n",
      "[CV] n_estimators=500, min_samples_split=4, min_samples_leaf=1, max_features=auto, max_depth=1000 \n",
      "[CV]  n_estimators=500, min_samples_split=4, min_samples_leaf=1, max_features=auto, max_depth=1000, total=   5.9s\n",
      "[CV] n_estimators=500, min_samples_split=4, min_samples_leaf=1, max_features=auto, max_depth=1000 \n",
      "[CV]  n_estimators=500, min_samples_split=4, min_samples_leaf=1, max_features=auto, max_depth=1000, total=   6.0s\n",
      "[CV] n_estimators=500, min_samples_split=4, min_samples_leaf=1, max_features=auto, max_depth=1000 \n",
      "[CV]  n_estimators=500, min_samples_split=4, min_samples_leaf=1, max_features=auto, max_depth=1000, total=   5.9s\n",
      "[CV] n_estimators=400, min_samples_split=70, min_samples_leaf=1, max_features=auto, max_depth=602 \n",
      "[CV]  n_estimators=400, min_samples_split=70, min_samples_leaf=1, max_features=auto, max_depth=602, total=   4.0s\n",
      "[CV] n_estimators=400, min_samples_split=70, min_samples_leaf=1, max_features=auto, max_depth=602 \n",
      "[CV]  n_estimators=400, min_samples_split=70, min_samples_leaf=1, max_features=auto, max_depth=602, total=   4.0s\n",
      "[CV] n_estimators=400, min_samples_split=70, min_samples_leaf=1, max_features=auto, max_depth=602 \n",
      "[CV]  n_estimators=400, min_samples_split=70, min_samples_leaf=1, max_features=auto, max_depth=602, total=   4.2s\n",
      "[CV] n_estimators=400, min_samples_split=70, min_samples_leaf=1, max_features=auto, max_depth=602 \n",
      "[CV]  n_estimators=400, min_samples_split=70, min_samples_leaf=1, max_features=auto, max_depth=602, total=   4.0s\n",
      "[CV] n_estimators=400, min_samples_split=70, min_samples_leaf=1, max_features=auto, max_depth=602 \n",
      "[CV]  n_estimators=400, min_samples_split=70, min_samples_leaf=1, max_features=auto, max_depth=602, total=   4.1s\n"
     ]
    },
    {
     "name": "stderr",
     "output_type": "stream",
     "text": [
      "[Parallel(n_jobs=1)]: Done  50 out of  50 | elapsed:  4.9min finished\n"
     ]
    },
    {
     "data": {
      "text/plain": [
       "RandomizedSearchCV(cv=5, error_score='raise',\n",
       "          estimator=RandomForestClassifier(bootstrap=True, class_weight=None, criterion='gini',\n",
       "            max_depth=None, max_features='auto', max_leaf_nodes=None,\n",
       "            min_impurity_split=1e-07, min_samples_leaf=1,\n",
       "            min_samples_split=2, min_weight_fraction_leaf=0.0,\n",
       "            n_estimators=10, n_jobs=1, oob_score=False, random_state=None,\n",
       "            verbose=0, warm_start=False),\n",
       "          fit_params={}, iid=True, n_iter=10, n_jobs=1,\n",
       "          param_distributions={'n_estimators': [100, 200, 300, 400, 500, 600, 700, 800, 900, 1000, 1100, 1200], 'max_features': ['auto', 'sqrt'], 'max_depth': [5, 204, 403, 602, 801, 1000], 'min_samples_split': [2, 4, 5, 7, 10, 15, 30, 50, 70, 85, 100], 'min_samples_leaf': [1, 2, 5, 10]},\n",
       "          pre_dispatch='2*n_jobs', random_state=None, refit=True,\n",
       "          return_train_score=True, scoring='neg_mean_squared_error',\n",
       "          verbose=2)"
      ]
     },
     "execution_count": 420,
     "metadata": {},
     "output_type": "execute_result"
    }
   ],
   "source": [
    "rf_random.fit(x_train, y_train)"
   ]
  },
  {
   "cell_type": "code",
   "execution_count": 421,
   "metadata": {
    "collapsed": true
   },
   "outputs": [],
   "source": [
    "y_pred_1 = rf_random.predict(x_test)"
   ]
  },
  {
   "cell_type": "code",
   "execution_count": 422,
   "metadata": {},
   "outputs": [
    {
     "data": {
      "text/plain": [
       "array([0, 0, 0, ..., 0, 0, 0], dtype=int64)"
      ]
     },
     "execution_count": 422,
     "metadata": {},
     "output_type": "execute_result"
    }
   ],
   "source": [
    "y_pred_1"
   ]
  },
  {
   "cell_type": "code",
   "execution_count": 423,
   "metadata": {},
   "outputs": [
    {
     "data": {
      "text/plain": [
       "0.93378897906877401"
      ]
     },
     "execution_count": 423,
     "metadata": {},
     "output_type": "execute_result"
    }
   ],
   "source": [
    "accuracy_score(y_test,y_pred_1)"
   ]
  },
  {
   "cell_type": "code",
   "execution_count": null,
   "metadata": {
    "collapsed": true
   },
   "outputs": [],
   "source": []
  }
 ],
 "metadata": {
  "kernelspec": {
   "display_name": "Python 3",
   "language": "python",
   "name": "python3"
  },
  "language_info": {
   "codemirror_mode": {
    "name": "ipython",
    "version": 3
   },
   "file_extension": ".py",
   "mimetype": "text/x-python",
   "name": "python",
   "nbconvert_exporter": "python",
   "pygments_lexer": "ipython3",
   "version": "3.6.1"
  }
 },
 "nbformat": 4,
 "nbformat_minor": 2
}
